{
  "nbformat": 4,
  "nbformat_minor": 0,
  "metadata": {
    "colab": {
      "provenance": []
    },
    "kernelspec": {
      "name": "python3",
      "display_name": "Python 3"
    },
    "language_info": {
      "name": "python"
    }
  },
  "cells": [
    {
      "cell_type": "code",
      "source": [
        "# 처음에 한 것 (시간 초과 뜸)\n",
        "# N = int(sys.stdin.readline())\n",
        "N = int(input())\n",
        "idx = 1\n",
        "A = 2\n",
        "B = 8\n",
        "\n",
        "while True:\n",
        "    if N == 1:\n",
        "        print(1)\n",
        "        break\n",
        "    else:\n",
        "        if N in list(range(A,B)):\n",
        "            print(idx+1)\n",
        "            break\n",
        "    A = B\n",
        "    idx+=1\n",
        "    B = A+6*idx"
      ],
      "metadata": {
        "id": "wBbw_rJAdG80"
      },
      "execution_count": null,
      "outputs": []
    },
    {
      "cell_type": "code",
      "source": [
        "# 시간초과 안뜨게 바꿈 \n",
        "# 리스트 생성에서 많은 연산이 있었던 것 같다\n",
        "import sys\n",
        "N = int(sys.stdin.readline())\n",
        "\n",
        "idx = 0\n",
        "A = 2\n",
        "while True:\n",
        "    if N == 1:\n",
        "        print(1)\n",
        "        break\n",
        "    else:\n",
        "        if N < A:\n",
        "            print(idx+1)\n",
        "            break\n",
        "    idx+=1\n",
        "    A=A+6*idx"
      ],
      "metadata": {
        "id": "hTGzBO7VdIm6"
      },
      "execution_count": null,
      "outputs": []
    }
  ]
}